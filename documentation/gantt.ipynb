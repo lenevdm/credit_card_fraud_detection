{
 "cells": [
  {
   "cell_type": "code",
   "execution_count": 4,
   "metadata": {},
   "outputs": [
    {
     "data": {
      "application/vnd.plotly.v1+json": {
       "config": {
        "plotlyServerURL": "https://plot.ly"
       },
       "data": [
        {
         "fill": "toself",
         "fillcolor": "rgb(107, 127, 135)",
         "hoverinfo": "name",
         "legendgroup": "rgb(107, 127, 135)",
         "mode": "none",
         "name": "Final",
         "type": "scatter",
         "x": [
          "2025-01-28",
          "2025-02-14",
          "2025-02-14",
          "2025-01-28",
          "2025-01-28",
          "2025-02-15",
          "2025-02-28",
          "2025-02-28",
          "2025-02-15",
          "2025-02-15",
          "2025-03-01",
          "2025-03-14",
          "2025-03-14",
          "2025-03-01",
          "2025-03-01",
          "2025-03-15",
          "2025-03-23",
          "2025-03-23",
          "2025-03-15"
         ],
         "y": [
          8.7,
          8.7,
          9.3,
          9.3,
          null,
          9.7,
          9.7,
          10.3,
          10.3,
          null,
          10.7,
          10.7,
          11.3,
          11.3,
          null,
          11.7,
          11.7,
          12.3,
          12.3
         ]
        },
        {
         "fill": "toself",
         "fillcolor": "rgb(114, 44, 121)",
         "hoverinfo": "name",
         "legendgroup": "rgb(114, 44, 121)",
         "mode": "none",
         "name": "Implementation I",
         "type": "scatter",
         "x": [
          "2024-12-02",
          "2024-12-08",
          "2024-12-08",
          "2024-12-02",
          "2024-12-02",
          "2024-12-09",
          "2024-12-16",
          "2024-12-16",
          "2024-12-09"
         ],
         "y": [
          0.7,
          0.7,
          1.3,
          1.3,
          null,
          1.7,
          1.7,
          2.3,
          2.3
         ]
        },
        {
         "fill": "toself",
         "fillcolor": "rgb(179, 179, 179)",
         "hoverinfo": "name",
         "legendgroup": "rgb(179, 179, 179)",
         "mode": "none",
         "name": "Buffer",
         "type": "scatter",
         "x": [
          "2024-12-17",
          "2024-12-31",
          "2024-12-31",
          "2024-12-17"
         ],
         "y": [
          2.7,
          2.7,
          3.3,
          3.3
         ]
        },
        {
         "fill": "toself",
         "fillcolor": "rgb(198, 47, 105)",
         "hoverinfo": "name",
         "legendgroup": "rgb(198, 47, 105)",
         "mode": "none",
         "name": "Implementation II",
         "type": "scatter",
         "x": [
          "2025-01-01",
          "2025-01-07",
          "2025-01-07",
          "2025-01-01",
          "2025-01-01",
          "2025-01-08",
          "2025-01-14",
          "2025-01-14",
          "2025-01-08",
          "2025-01-08",
          "2025-01-15",
          "2025-01-21",
          "2025-01-21",
          "2025-01-15"
         ],
         "y": [
          3.7,
          3.7,
          4.3,
          4.3,
          null,
          4.7,
          4.7,
          5.3,
          5.3,
          null,
          5.7,
          5.7,
          6.3,
          6.3
         ]
        },
        {
         "fill": "toself",
         "fillcolor": "rgb(46, 137, 205)",
         "hoverinfo": "name",
         "legendgroup": "rgb(46, 137, 205)",
         "mode": "none",
         "name": "Foundation",
         "type": "scatter",
         "x": [
          "2024-11-25",
          "2024-12-01",
          "2024-12-01",
          "2024-11-25"
         ],
         "y": [
          -0.3,
          -0.3,
          0.3,
          0.3
         ]
        },
        {
         "fill": "toself",
         "fillcolor": "rgb(58, 149, 136)",
         "hoverinfo": "name",
         "legendgroup": "rgb(58, 149, 136)",
         "mode": "none",
         "name": "Evaluation",
         "type": "scatter",
         "x": [
          "2025-01-22",
          "2025-01-27",
          "2025-01-27",
          "2025-01-22",
          "2025-01-22",
          "2025-01-22",
          "2025-01-27",
          "2025-01-27",
          "2025-01-22"
         ],
         "y": [
          6.7,
          6.7,
          7.3,
          7.3,
          null,
          7.7,
          7.7,
          8.3,
          8.3
         ]
        },
        {
         "legendgroup": "rgb(107, 127, 135)",
         "marker": {
          "color": "rgb(107, 127, 135)",
          "opacity": 0,
          "size": 1
         },
         "mode": "markers",
         "name": "",
         "showlegend": false,
         "text": [
          null,
          null,
          null,
          null,
          null,
          null,
          null,
          null
         ],
         "type": "scatter",
         "x": [
          "2025-01-28",
          "2025-02-14",
          "2025-02-15",
          "2025-02-28",
          "2025-03-01",
          "2025-03-14",
          "2025-03-15",
          "2025-03-23"
         ],
         "y": [
          9,
          9,
          10,
          10,
          11,
          11,
          12,
          12
         ]
        },
        {
         "legendgroup": "rgb(114, 44, 121)",
         "marker": {
          "color": "rgb(114, 44, 121)",
          "opacity": 0,
          "size": 1
         },
         "mode": "markers",
         "name": "",
         "showlegend": false,
         "text": [
          null,
          null,
          null,
          null
         ],
         "type": "scatter",
         "x": [
          "2024-12-02",
          "2024-12-08",
          "2024-12-09",
          "2024-12-16"
         ],
         "y": [
          1,
          1,
          2,
          2
         ]
        },
        {
         "legendgroup": "rgb(179, 179, 179)",
         "marker": {
          "color": "rgb(179, 179, 179)",
          "opacity": 0,
          "size": 1
         },
         "mode": "markers",
         "name": "",
         "showlegend": false,
         "text": [
          null,
          null
         ],
         "type": "scatter",
         "x": [
          "2024-12-17",
          "2024-12-31"
         ],
         "y": [
          3,
          3
         ]
        },
        {
         "legendgroup": "rgb(198, 47, 105)",
         "marker": {
          "color": "rgb(198, 47, 105)",
          "opacity": 0,
          "size": 1
         },
         "mode": "markers",
         "name": "",
         "showlegend": false,
         "text": [
          null,
          null,
          null,
          null,
          null,
          null
         ],
         "type": "scatter",
         "x": [
          "2025-01-01",
          "2025-01-07",
          "2025-01-08",
          "2025-01-14",
          "2025-01-15",
          "2025-01-21"
         ],
         "y": [
          4,
          4,
          5,
          5,
          6,
          6
         ]
        },
        {
         "legendgroup": "rgb(46, 137, 205)",
         "marker": {
          "color": "rgb(46, 137, 205)",
          "opacity": 0,
          "size": 1
         },
         "mode": "markers",
         "name": "",
         "showlegend": false,
         "text": [
          null,
          null
         ],
         "type": "scatter",
         "x": [
          "2024-11-25",
          "2024-12-01"
         ],
         "y": [
          0,
          0
         ]
        },
        {
         "legendgroup": "rgb(58, 149, 136)",
         "marker": {
          "color": "rgb(58, 149, 136)",
          "opacity": 0,
          "size": 1
         },
         "mode": "markers",
         "name": "",
         "showlegend": false,
         "text": [
          null,
          null,
          null,
          null
         ],
         "type": "scatter",
         "x": [
          "2025-01-22",
          "2025-01-27",
          "2025-01-22",
          "2025-01-27"
         ],
         "y": [
          7,
          7,
          8,
          8
         ]
        }
       ],
       "layout": {
        "font": {
         "size": 12
        },
        "height": 800,
        "hovermode": "closest",
        "showlegend": true,
        "template": {
         "data": {
          "bar": [
           {
            "error_x": {
             "color": "#2a3f5f"
            },
            "error_y": {
             "color": "#2a3f5f"
            },
            "marker": {
             "line": {
              "color": "#E5ECF6",
              "width": 0.5
             },
             "pattern": {
              "fillmode": "overlay",
              "size": 10,
              "solidity": 0.2
             }
            },
            "type": "bar"
           }
          ],
          "barpolar": [
           {
            "marker": {
             "line": {
              "color": "#E5ECF6",
              "width": 0.5
             },
             "pattern": {
              "fillmode": "overlay",
              "size": 10,
              "solidity": 0.2
             }
            },
            "type": "barpolar"
           }
          ],
          "carpet": [
           {
            "aaxis": {
             "endlinecolor": "#2a3f5f",
             "gridcolor": "white",
             "linecolor": "white",
             "minorgridcolor": "white",
             "startlinecolor": "#2a3f5f"
            },
            "baxis": {
             "endlinecolor": "#2a3f5f",
             "gridcolor": "white",
             "linecolor": "white",
             "minorgridcolor": "white",
             "startlinecolor": "#2a3f5f"
            },
            "type": "carpet"
           }
          ],
          "choropleth": [
           {
            "colorbar": {
             "outlinewidth": 0,
             "ticks": ""
            },
            "type": "choropleth"
           }
          ],
          "contour": [
           {
            "colorbar": {
             "outlinewidth": 0,
             "ticks": ""
            },
            "colorscale": [
             [
              0,
              "#0d0887"
             ],
             [
              0.1111111111111111,
              "#46039f"
             ],
             [
              0.2222222222222222,
              "#7201a8"
             ],
             [
              0.3333333333333333,
              "#9c179e"
             ],
             [
              0.4444444444444444,
              "#bd3786"
             ],
             [
              0.5555555555555556,
              "#d8576b"
             ],
             [
              0.6666666666666666,
              "#ed7953"
             ],
             [
              0.7777777777777778,
              "#fb9f3a"
             ],
             [
              0.8888888888888888,
              "#fdca26"
             ],
             [
              1,
              "#f0f921"
             ]
            ],
            "type": "contour"
           }
          ],
          "contourcarpet": [
           {
            "colorbar": {
             "outlinewidth": 0,
             "ticks": ""
            },
            "type": "contourcarpet"
           }
          ],
          "heatmap": [
           {
            "colorbar": {
             "outlinewidth": 0,
             "ticks": ""
            },
            "colorscale": [
             [
              0,
              "#0d0887"
             ],
             [
              0.1111111111111111,
              "#46039f"
             ],
             [
              0.2222222222222222,
              "#7201a8"
             ],
             [
              0.3333333333333333,
              "#9c179e"
             ],
             [
              0.4444444444444444,
              "#bd3786"
             ],
             [
              0.5555555555555556,
              "#d8576b"
             ],
             [
              0.6666666666666666,
              "#ed7953"
             ],
             [
              0.7777777777777778,
              "#fb9f3a"
             ],
             [
              0.8888888888888888,
              "#fdca26"
             ],
             [
              1,
              "#f0f921"
             ]
            ],
            "type": "heatmap"
           }
          ],
          "heatmapgl": [
           {
            "colorbar": {
             "outlinewidth": 0,
             "ticks": ""
            },
            "colorscale": [
             [
              0,
              "#0d0887"
             ],
             [
              0.1111111111111111,
              "#46039f"
             ],
             [
              0.2222222222222222,
              "#7201a8"
             ],
             [
              0.3333333333333333,
              "#9c179e"
             ],
             [
              0.4444444444444444,
              "#bd3786"
             ],
             [
              0.5555555555555556,
              "#d8576b"
             ],
             [
              0.6666666666666666,
              "#ed7953"
             ],
             [
              0.7777777777777778,
              "#fb9f3a"
             ],
             [
              0.8888888888888888,
              "#fdca26"
             ],
             [
              1,
              "#f0f921"
             ]
            ],
            "type": "heatmapgl"
           }
          ],
          "histogram": [
           {
            "marker": {
             "pattern": {
              "fillmode": "overlay",
              "size": 10,
              "solidity": 0.2
             }
            },
            "type": "histogram"
           }
          ],
          "histogram2d": [
           {
            "colorbar": {
             "outlinewidth": 0,
             "ticks": ""
            },
            "colorscale": [
             [
              0,
              "#0d0887"
             ],
             [
              0.1111111111111111,
              "#46039f"
             ],
             [
              0.2222222222222222,
              "#7201a8"
             ],
             [
              0.3333333333333333,
              "#9c179e"
             ],
             [
              0.4444444444444444,
              "#bd3786"
             ],
             [
              0.5555555555555556,
              "#d8576b"
             ],
             [
              0.6666666666666666,
              "#ed7953"
             ],
             [
              0.7777777777777778,
              "#fb9f3a"
             ],
             [
              0.8888888888888888,
              "#fdca26"
             ],
             [
              1,
              "#f0f921"
             ]
            ],
            "type": "histogram2d"
           }
          ],
          "histogram2dcontour": [
           {
            "colorbar": {
             "outlinewidth": 0,
             "ticks": ""
            },
            "colorscale": [
             [
              0,
              "#0d0887"
             ],
             [
              0.1111111111111111,
              "#46039f"
             ],
             [
              0.2222222222222222,
              "#7201a8"
             ],
             [
              0.3333333333333333,
              "#9c179e"
             ],
             [
              0.4444444444444444,
              "#bd3786"
             ],
             [
              0.5555555555555556,
              "#d8576b"
             ],
             [
              0.6666666666666666,
              "#ed7953"
             ],
             [
              0.7777777777777778,
              "#fb9f3a"
             ],
             [
              0.8888888888888888,
              "#fdca26"
             ],
             [
              1,
              "#f0f921"
             ]
            ],
            "type": "histogram2dcontour"
           }
          ],
          "mesh3d": [
           {
            "colorbar": {
             "outlinewidth": 0,
             "ticks": ""
            },
            "type": "mesh3d"
           }
          ],
          "parcoords": [
           {
            "line": {
             "colorbar": {
              "outlinewidth": 0,
              "ticks": ""
             }
            },
            "type": "parcoords"
           }
          ],
          "pie": [
           {
            "automargin": true,
            "type": "pie"
           }
          ],
          "scatter": [
           {
            "fillpattern": {
             "fillmode": "overlay",
             "size": 10,
             "solidity": 0.2
            },
            "type": "scatter"
           }
          ],
          "scatter3d": [
           {
            "line": {
             "colorbar": {
              "outlinewidth": 0,
              "ticks": ""
             }
            },
            "marker": {
             "colorbar": {
              "outlinewidth": 0,
              "ticks": ""
             }
            },
            "type": "scatter3d"
           }
          ],
          "scattercarpet": [
           {
            "marker": {
             "colorbar": {
              "outlinewidth": 0,
              "ticks": ""
             }
            },
            "type": "scattercarpet"
           }
          ],
          "scattergeo": [
           {
            "marker": {
             "colorbar": {
              "outlinewidth": 0,
              "ticks": ""
             }
            },
            "type": "scattergeo"
           }
          ],
          "scattergl": [
           {
            "marker": {
             "colorbar": {
              "outlinewidth": 0,
              "ticks": ""
             }
            },
            "type": "scattergl"
           }
          ],
          "scattermapbox": [
           {
            "marker": {
             "colorbar": {
              "outlinewidth": 0,
              "ticks": ""
             }
            },
            "type": "scattermapbox"
           }
          ],
          "scatterpolar": [
           {
            "marker": {
             "colorbar": {
              "outlinewidth": 0,
              "ticks": ""
             }
            },
            "type": "scatterpolar"
           }
          ],
          "scatterpolargl": [
           {
            "marker": {
             "colorbar": {
              "outlinewidth": 0,
              "ticks": ""
             }
            },
            "type": "scatterpolargl"
           }
          ],
          "scatterternary": [
           {
            "marker": {
             "colorbar": {
              "outlinewidth": 0,
              "ticks": ""
             }
            },
            "type": "scatterternary"
           }
          ],
          "surface": [
           {
            "colorbar": {
             "outlinewidth": 0,
             "ticks": ""
            },
            "colorscale": [
             [
              0,
              "#0d0887"
             ],
             [
              0.1111111111111111,
              "#46039f"
             ],
             [
              0.2222222222222222,
              "#7201a8"
             ],
             [
              0.3333333333333333,
              "#9c179e"
             ],
             [
              0.4444444444444444,
              "#bd3786"
             ],
             [
              0.5555555555555556,
              "#d8576b"
             ],
             [
              0.6666666666666666,
              "#ed7953"
             ],
             [
              0.7777777777777778,
              "#fb9f3a"
             ],
             [
              0.8888888888888888,
              "#fdca26"
             ],
             [
              1,
              "#f0f921"
             ]
            ],
            "type": "surface"
           }
          ],
          "table": [
           {
            "cells": {
             "fill": {
              "color": "#EBF0F8"
             },
             "line": {
              "color": "white"
             }
            },
            "header": {
             "fill": {
              "color": "#C8D4E3"
             },
             "line": {
              "color": "white"
             }
            },
            "type": "table"
           }
          ]
         },
         "layout": {
          "annotationdefaults": {
           "arrowcolor": "#2a3f5f",
           "arrowhead": 0,
           "arrowwidth": 1
          },
          "autotypenumbers": "strict",
          "coloraxis": {
           "colorbar": {
            "outlinewidth": 0,
            "ticks": ""
           }
          },
          "colorscale": {
           "diverging": [
            [
             0,
             "#8e0152"
            ],
            [
             0.1,
             "#c51b7d"
            ],
            [
             0.2,
             "#de77ae"
            ],
            [
             0.3,
             "#f1b6da"
            ],
            [
             0.4,
             "#fde0ef"
            ],
            [
             0.5,
             "#f7f7f7"
            ],
            [
             0.6,
             "#e6f5d0"
            ],
            [
             0.7,
             "#b8e186"
            ],
            [
             0.8,
             "#7fbc41"
            ],
            [
             0.9,
             "#4d9221"
            ],
            [
             1,
             "#276419"
            ]
           ],
           "sequential": [
            [
             0,
             "#0d0887"
            ],
            [
             0.1111111111111111,
             "#46039f"
            ],
            [
             0.2222222222222222,
             "#7201a8"
            ],
            [
             0.3333333333333333,
             "#9c179e"
            ],
            [
             0.4444444444444444,
             "#bd3786"
            ],
            [
             0.5555555555555556,
             "#d8576b"
            ],
            [
             0.6666666666666666,
             "#ed7953"
            ],
            [
             0.7777777777777778,
             "#fb9f3a"
            ],
            [
             0.8888888888888888,
             "#fdca26"
            ],
            [
             1,
             "#f0f921"
            ]
           ],
           "sequentialminus": [
            [
             0,
             "#0d0887"
            ],
            [
             0.1111111111111111,
             "#46039f"
            ],
            [
             0.2222222222222222,
             "#7201a8"
            ],
            [
             0.3333333333333333,
             "#9c179e"
            ],
            [
             0.4444444444444444,
             "#bd3786"
            ],
            [
             0.5555555555555556,
             "#d8576b"
            ],
            [
             0.6666666666666666,
             "#ed7953"
            ],
            [
             0.7777777777777778,
             "#fb9f3a"
            ],
            [
             0.8888888888888888,
             "#fdca26"
            ],
            [
             1,
             "#f0f921"
            ]
           ]
          },
          "colorway": [
           "#636efa",
           "#EF553B",
           "#00cc96",
           "#ab63fa",
           "#FFA15A",
           "#19d3f3",
           "#FF6692",
           "#B6E880",
           "#FF97FF",
           "#FECB52"
          ],
          "font": {
           "color": "#2a3f5f"
          },
          "geo": {
           "bgcolor": "white",
           "lakecolor": "white",
           "landcolor": "#E5ECF6",
           "showlakes": true,
           "showland": true,
           "subunitcolor": "white"
          },
          "hoverlabel": {
           "align": "left"
          },
          "hovermode": "closest",
          "mapbox": {
           "style": "light"
          },
          "paper_bgcolor": "white",
          "plot_bgcolor": "#E5ECF6",
          "polar": {
           "angularaxis": {
            "gridcolor": "white",
            "linecolor": "white",
            "ticks": ""
           },
           "bgcolor": "#E5ECF6",
           "radialaxis": {
            "gridcolor": "white",
            "linecolor": "white",
            "ticks": ""
           }
          },
          "scene": {
           "xaxis": {
            "backgroundcolor": "#E5ECF6",
            "gridcolor": "white",
            "gridwidth": 2,
            "linecolor": "white",
            "showbackground": true,
            "ticks": "",
            "zerolinecolor": "white"
           },
           "yaxis": {
            "backgroundcolor": "#E5ECF6",
            "gridcolor": "white",
            "gridwidth": 2,
            "linecolor": "white",
            "showbackground": true,
            "ticks": "",
            "zerolinecolor": "white"
           },
           "zaxis": {
            "backgroundcolor": "#E5ECF6",
            "gridcolor": "white",
            "gridwidth": 2,
            "linecolor": "white",
            "showbackground": true,
            "ticks": "",
            "zerolinecolor": "white"
           }
          },
          "shapedefaults": {
           "line": {
            "color": "#2a3f5f"
           }
          },
          "ternary": {
           "aaxis": {
            "gridcolor": "white",
            "linecolor": "white",
            "ticks": ""
           },
           "baxis": {
            "gridcolor": "white",
            "linecolor": "white",
            "ticks": ""
           },
           "bgcolor": "#E5ECF6",
           "caxis": {
            "gridcolor": "white",
            "linecolor": "white",
            "ticks": ""
           }
          },
          "title": {
           "x": 0.05
          },
          "xaxis": {
           "automargin": true,
           "gridcolor": "white",
           "linecolor": "white",
           "ticks": "",
           "title": {
            "standoff": 15
           },
           "zerolinecolor": "white",
           "zerolinewidth": 2
          },
          "yaxis": {
           "automargin": true,
           "gridcolor": "white",
           "linecolor": "white",
           "ticks": "",
           "title": {
            "standoff": 15
           },
           "zerolinecolor": "white",
           "zerolinewidth": 2
          }
         }
        },
        "title": {
         "text": "Project Timeline"
        },
        "xaxis": {
         "rangeselector": {
          "buttons": [
           {
            "count": 7,
            "label": "1w",
            "step": "day",
            "stepmode": "backward"
           },
           {
            "count": 1,
            "label": "1m",
            "step": "month",
            "stepmode": "backward"
           },
           {
            "count": 6,
            "label": "6m",
            "step": "month",
            "stepmode": "backward"
           },
           {
            "count": 1,
            "label": "YTD",
            "step": "year",
            "stepmode": "todate"
           },
           {
            "count": 1,
            "label": "1y",
            "step": "year",
            "stepmode": "backward"
           },
           {
            "step": "all"
           }
          ]
         },
         "showgrid": true,
         "title": {
          "text": "Date"
         },
         "type": "date",
         "zeroline": false
        },
        "yaxis": {
         "autorange": false,
         "range": [
          -1,
          14
         ],
         "showgrid": true,
         "ticktext": [
          "Design Document",
          "Data Preprocessing",
          "Baseline MLP Model",
          "Buffer/Holiday Break",
          "SMOTE & RUS Implementation",
          "SMOTE-ENN & Class Weights",
          "Ensemble Method",
          "Comparative Analysis",
          "Draft Report",
          "Results Refinement",
          "Report Writing",
          "Code Documentation",
          "Video Preparation"
         ],
         "tickvals": [
          0,
          1,
          2,
          3,
          4,
          5,
          6,
          7,
          8,
          9,
          10,
          11,
          12
         ],
         "title": {
          "text": "Tasks"
         },
         "zeroline": false
        }
       }
      }
     },
     "metadata": {},
     "output_type": "display_data"
    }
   ],
   "source": [
    "import plotly.figure_factory as ff\n",
    "from datetime import datetime, timedelta\n",
    "\n",
    "# Define tasks and their timeframes\n",
    "df = [\n",
    "    dict(Task=\"Design Document\", Start='2024-11-25', Finish='2024-12-01', Resource='Foundation'),\n",
    "    dict(Task=\"Data Preprocessing\", Start='2024-12-02', Finish='2024-12-08', Resource='Implementation I'),\n",
    "    dict(Task=\"Baseline MLP Model\", Start='2024-12-09', Finish='2024-12-16', Resource='Implementation I'),\n",
    "    dict(Task=\"Buffer/Holiday Break\", Start='2024-12-17', Finish='2024-12-31', Resource='Buffer'),\n",
    "    dict(Task=\"SMOTE & RUS Implementation\", Start='2025-01-01', Finish='2025-01-07', Resource='Implementation II'),\n",
    "    dict(Task=\"SMOTE-ENN & Class Weights\", Start='2025-01-08', Finish='2025-01-14', Resource='Implementation II'),\n",
    "    dict(Task=\"Ensemble Method\", Start='2025-01-15', Finish='2025-01-21', Resource='Implementation II'),\n",
    "    dict(Task=\"Comparative Analysis\", Start='2025-01-22', Finish='2025-01-27', Resource='Evaluation'),\n",
    "    dict(Task=\"Draft Report\", Start='2025-01-22', Finish='2025-01-27', Resource='Evaluation'),\n",
    "    dict(Task=\"Results Refinement\", Start='2025-01-28', Finish='2025-02-14', Resource='Final'),\n",
    "    dict(Task=\"Report Writing\", Start='2025-02-15', Finish='2025-02-28', Resource='Final'),\n",
    "    dict(Task=\"Code Documentation\", Start='2025-03-01', Finish='2025-03-14', Resource='Final'),\n",
    "    dict(Task=\"Video Preparation\", Start='2025-03-15', Finish='2025-03-23', Resource='Final'),\n",
    "]\n",
    "\n",
    "colors = {\n",
    "    'Foundation': 'rgb(46, 137, 205)',\n",
    "    'Implementation I': 'rgb(114, 44, 121)',\n",
    "    'Implementation II': 'rgb(198, 47, 105)',\n",
    "    'Evaluation': 'rgb(58, 149, 136)',\n",
    "    'Final': 'rgb(107, 127, 135)',\n",
    "    'Buffer': 'rgb(179, 179, 179)'\n",
    "}\n",
    "\n",
    "fig = ff.create_gantt(df,\n",
    "                     colors=colors,\n",
    "                     index_col='Resource',\n",
    "                     title='Project Timeline',\n",
    "                     show_colorbar=True,\n",
    "                     bar_width=0.3,\n",
    "                     showgrid_x=True,\n",
    "                     showgrid_y=True)\n",
    "\n",
    "# Update layout for better readability\n",
    "fig.update_layout(\n",
    "    xaxis_title=\"Date\",\n",
    "    yaxis_title=\"Tasks\",\n",
    "    height=800,\n",
    "    font=dict(size=12)\n",
    ")\n",
    "\n",
    "# Save as HTML file\n",
    "#fig.write_html(\"documentation\\project_timeline.html\")"
   ]
  },
  {
   "cell_type": "code",
   "execution_count": null,
   "metadata": {},
   "outputs": [],
   "source": [
    "# Library versions\n",
    "# Import required libraries\n",
    "import sys\n",
    "import tensorflow as tf\n",
    "import pandas as pd\n",
    "import numpy as np\n",
    "import matplotlib\n",
    "import seaborn as sns\n",
    "import imblearn\n",
    "import sklearn\n",
    "import mlflow\n",
    "\n",
    "# Print versions of each library\n",
    "print(\"Python version:\", sys.version.split()[0])\n",
    "print(\"TensorFlow version:\", tf.__version__)\n",
    "print(\"Pandas version:\", pd.__version__)\n",
    "print(\"NumPy version:\", np.__version__)\n",
    "print(\"Matplotlib version:\", matplotlib.__version__)\n",
    "print(\"Seaborn version:\", sns.__version__)\n",
    "print(\"imbalanced-learn version:\", imblearn.__version__)\n",
    "print(\"scikit-learn version:\", sklearn.__version__)\n",
    "print(\"MLflow version:\", mlflow.__version__)"
   ]
  }
 ],
 "metadata": {
  "kernelspec": {
   "display_name": "tensorflow-venv",
   "language": "python",
   "name": "python3"
  },
  "language_info": {
   "codemirror_mode": {
    "name": "ipython",
    "version": 3
   },
   "file_extension": ".py",
   "mimetype": "text/x-python",
   "name": "python",
   "nbconvert_exporter": "python",
   "pygments_lexer": "ipython3",
   "version": "3.12.7"
  }
 },
 "nbformat": 4,
 "nbformat_minor": 2
}
